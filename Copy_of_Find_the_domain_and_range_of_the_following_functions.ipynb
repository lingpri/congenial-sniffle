{
  "nbformat": 4,
  "nbformat_minor": 0,
  "metadata": {
    "colab": {
      "name": "Copy of Find the domain and range of the following functions.ipynb",
      "provenance": [],
      "authorship_tag": "ABX9TyOLUQz/SVVTzIm+6ozSSI5M",
      "include_colab_link": true
    },
    "kernelspec": {
      "name": "python3",
      "display_name": "Python 3"
    }
  },
  "cells": [
    {
      "cell_type": "markdown",
      "metadata": {
        "id": "view-in-github",
        "colab_type": "text"
      },
      "source": [
        "<a href=\"https://colab.research.google.com/github/lingpri/congenial-sniffle/blob/main/Copy_of_Find_the_domain_and_range_of_the_following_functions.ipynb\" target=\"_parent\"><img src=\"https://colab.research.google.com/assets/colab-badge.svg\" alt=\"Open In Colab\"/></a>"
      ]
    },
    {
      "cell_type": "markdown",
      "metadata": {
        "id": "OyF8MJUJho-Z"
      },
      "source": [
        "**Example 1:**\n",
        "\n",
        "\\begin{equation*}\n",
        "f(x) = 1 + \\sqrt{2x-5}+\\sqrt{9-3x} \n",
        "\\end{equation*}\n",
        "\n",
        "\\begin{equation*}\n",
        "f(x) = |\\sqrt{x} -2 |+ |\\sqrt{x} -2|\n",
        "\\end{equation*} \n",
        "\n",
        "\n"
      ]
    },
    {
      "cell_type": "code",
      "metadata": {
        "id": "xv1In2T1nMxK"
      },
      "source": [
        ""
      ],
      "execution_count": null,
      "outputs": []
    },
    {
      "cell_type": "markdown",
      "metadata": {
        "id": "7BkKky3TjYKG"
      },
      "source": [
        ""
      ]
    },
    {
      "cell_type": "code",
      "metadata": {
        "id": "v29dDFyTwd5z"
      },
      "source": [
        "import numpy as np\n",
        "\n"
      ],
      "execution_count": null,
      "outputs": []
    },
    {
      "cell_type": "code",
      "metadata": {
        "id": "2pouALsO2Isv"
      },
      "source": [
        "def f(x):\n",
        "    return 1 + np.sqrt(2 * (6-5)) + np.sqrt(9 - (3 * -2))"
      ],
      "execution_count": null,
      "outputs": []
    },
    {
      "cell_type": "code",
      "metadata": {
        "colab": {
          "base_uri": "https://localhost:8080/"
        },
        "id": "eFJBecrg3K5Y",
        "outputId": "637c8cd9-d989-48d5-8040-89918df3b5cd"
      },
      "source": [
        "print(f(12))"
      ],
      "execution_count": null,
      "outputs": [
        {
          "output_type": "stream",
          "text": [
            "6.287196908580512\n"
          ],
          "name": "stdout"
        }
      ]
    },
    {
      "cell_type": "code",
      "metadata": {
        "id": "qgN6FEji4RKK"
      },
      "source": [
        ""
      ],
      "execution_count": null,
      "outputs": []
    }
  ]
}