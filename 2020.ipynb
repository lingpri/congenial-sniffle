{
  "nbformat": 4,
  "nbformat_minor": 0,
  "metadata": {
    "colab": {
      "name": "2020.ipynb",
      "provenance": [],
      "collapsed_sections": [],
      "authorship_tag": "ABX9TyMKDXDzYqn9wxmbFzZDPx2Q",
      "include_colab_link": true
    },
    "kernelspec": {
      "name": "python3",
      "display_name": "Python 3"
    }
  },
  "cells": [
    {
      "cell_type": "markdown",
      "metadata": {
        "id": "view-in-github",
        "colab_type": "text"
      },
      "source": [
        "<a href=\"https://colab.research.google.com/github/lingpri/congenial-sniffle/blob/main/2020.ipynb\" target=\"_parent\"><img src=\"https://colab.research.google.com/assets/colab-badge.svg\" alt=\"Open In Colab\"/></a>"
      ]
    },
    {
      "cell_type": "markdown",
      "metadata": {
        "id": "rhFSoYNibAjS"
      },
      "source": [
        "# Find the product of the numbers, whose sum is equal to 2020.\n"
      ]
    },
    {
      "cell_type": "code",
      "metadata": {
        "id": "Q9Tbd0XqvrTs"
      },
      "source": [
        "def data(day: int, parser=str, sep='\\n') -> list:\n",
        "    \"Split the day's input file into sections separated by `sep`, and apply `parser` to each.\"\n",
        "    sections = open(f'../content/sample_data/day{day}').read().rstrip().split(sep)\n",
        "    return [parser(section) for section in sections]\n",
        "     \n"
      ],
      "execution_count": 184,
      "outputs": []
    },
    {
      "cell_type": "code",
      "metadata": {
        "id": "XsAXaXJAwKR1"
      },
      "source": [
        "def first(iterable, default=None) -> object:\n",
        "    \"Return first item in iterable, or default.\"\n",
        "    return next(iter(iterable), default)\n",
        "\n",
        "\n",
        "def day1_1(nums):\n",
        "    \"Find 2 distinct numbers that sum to 2020, and return their product.\"\n",
        "    return first(x * y \n",
        "                 for x in nums\n",
        "                 for y in nums & {2020 - x} \n",
        "                 if x != y)"
      ],
      "execution_count": 186,
      "outputs": []
    },
    {
      "cell_type": "code",
      "metadata": {
        "id": "3w1VsCPUwj4s"
      },
      "source": [
        "def day1_2(nums):\n",
        "    \"Find 3 distinct numbers that sum to 2020, and return their product.\"\n",
        "    return first(x * y * z \n",
        "                 for x, y in combinations(nums, 2) \n",
        "                 for z in nums & {2020 - x - y} \n",
        "                 if x != z != y)"
      ],
      "execution_count": 167,
      "outputs": []
    },
    {
      "cell_type": "code",
      "metadata": {
        "colab": {
          "base_uri": "https://localhost:8080/"
        },
        "id": "-09EN5ec7qoC",
        "outputId": "f35e1587-b140-4a07-f578-5a6a2be9cc57"
      },
      "source": [
        "in1: Set[int] = set(data(1,int))\n",
        "print(in1)"
      ],
      "execution_count": 187,
      "outputs": [
        {
          "output_type": "stream",
          "text": [
            "{609, 128, 1161, 1718, 1732, 713, 1737, 1746, 1747, 1750, 1752, 1762, 1765, 1770, 1771, 1778, 1782, 1784, 1786, 1787, 1790, 1792, 1793, 1795, 1801, 1803, 1807, 1808, 280, 1817, 1818, 1822, 1827, 1833, 1841, 1845, 1846, 1847, 1848, 1849, 1855, 1858, 1860, 1865, 1871, 1874, 1876, 1878, 1885, 1887, 1889, 1893, 1381, 1895, 1898, 1899, 1900, 1905, 1908, 1909, 1914, 1919, 1920, 390, 1929, 1931, 1932, 398, 1936, 1939, 1942, 1946, 1948, 1949, 1952, 1954, 1957, 1958, 1959, 1960, 1962, 1964, 1966, 1967, 1970, 1972, 1973, 1975, 1976, 1977, 1979, 1982, 1989, 1991, 1999, 2004, 1494, 2006, 2010, 1515}\n"
          ],
          "name": "stdout"
        }
      ]
    },
    {
      "cell_type": "code",
      "metadata": {
        "id": "ovFuLs9EUuXj"
      },
      "source": [
        ""
      ],
      "execution_count": null,
      "outputs": []
    },
    {
      "cell_type": "code",
      "metadata": {
        "id": "906F7p9OQzbQ"
      },
      "source": [
        "day1_1(in1)"
      ],
      "execution_count": 188,
      "outputs": []
    },
    {
      "cell_type": "code",
      "metadata": {
        "id": "qWyOknfmRCMH"
      },
      "source": [
        "for i in in1:\n",
        "    if(889779 % i == 0):\n",
        "        print(divmod(889779,i))\n",
        "        "
      ],
      "execution_count": 190,
      "outputs": []
    },
    {
      "cell_type": "code",
      "metadata": {
        "colab": {
          "base_uri": "https://localhost:8080/"
        },
        "id": "Dlu4UAjcT6MN",
        "outputId": "ba70435e-d15e-4ea7-917b-c360d9f7d3c3"
      },
      "source": [
        "print(1371*649)"
      ],
      "execution_count": 183,
      "outputs": [
        {
          "output_type": "stream",
          "text": [
            "889779\n"
          ],
          "name": "stdout"
        }
      ]
    },
    {
      "cell_type": "code",
      "metadata": {
        "id": "MQVP4nZceh1h"
      },
      "source": [
        "nums = {1732,1972,1822,1371,649}"
      ],
      "execution_count": 200,
      "outputs": []
    },
    {
      "cell_type": "code",
      "metadata": {
        "colab": {
          "base_uri": "https://localhost:8080/"
        },
        "id": "7OsfvcpIevPL",
        "outputId": "54bc555a-c7b7-456d-8981-39b130949ddf"
      },
      "source": [
        "len(nums)"
      ],
      "execution_count": 201,
      "outputs": [
        {
          "output_type": "execute_result",
          "data": {
            "text/plain": [
              "5"
            ]
          },
          "metadata": {
            "tags": []
          },
          "execution_count": 201
        }
      ]
    },
    {
      "cell_type": "code",
      "metadata": {
        "colab": {
          "base_uri": "https://localhost:8080/"
        },
        "id": "FD6QbUkzezv9",
        "outputId": "4ad4cac1-558b-4e76-846f-85fa0d967dca"
      },
      "source": [
        "for j in nums:\n",
        "    for i in nums & {2020 - j} :\n",
        "        print(i, j, j+i, j * i)"
      ],
      "execution_count": 205,
      "outputs": [
        {
          "output_type": "stream",
          "text": [
            "1371 649 2020 889779\n",
            "649 1371 2020 889779\n"
          ],
          "name": "stdout"
        }
      ]
    },
    {
      "cell_type": "code",
      "metadata": {
        "id": "QXQRlZdmfGTz"
      },
      "source": [
        ""
      ],
      "execution_count": null,
      "outputs": []
    }
  ]
}