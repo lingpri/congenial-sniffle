{
  "nbformat": 4,
  "nbformat_minor": 0,
  "metadata": {
    "colab": {
      "name": "FindPairsEqualSum.ipynb",
      "provenance": [],
      "collapsed_sections": [],
      "authorship_tag": "ABX9TyNQsnHtqToN9l0T7JREkvqn",
      "include_colab_link": true
    },
    "kernelspec": {
      "name": "python3",
      "display_name": "Python 3"
    }
  },
  "cells": [
    {
      "cell_type": "markdown",
      "metadata": {
        "id": "view-in-github",
        "colab_type": "text"
      },
      "source": [
        "<a href=\"https://colab.research.google.com/github/lingpri/congenial-sniffle/blob/main/FindPairsEqualSum.ipynb\" target=\"_parent\"><img src=\"https://colab.research.google.com/assets/colab-badge.svg\" alt=\"Open In Colab\"/></a>"
      ]
    },
    {
      "cell_type": "code",
      "metadata": {
        "id": "6hu1QfdSdwkf"
      },
      "source": [
        "def is_sum_equals_target(x,y,sum) -> bool:\n",
        "    return ((x + y) == sum )\n"
      ],
      "execution_count": 1,
      "outputs": []
    },
    {
      "cell_type": "code",
      "metadata": {
        "id": "1sf4Q6tMea4k"
      },
      "source": [
        "from itertools import combinations\n",
        "\n",
        "def findPairs(arr,target) :\n",
        "    return [ (x,y) for x, y in combinations(arr,2) if is_sum_equals_target(x,y,11) == True ]"
      ],
      "execution_count": 14,
      "outputs": []
    },
    {
      "cell_type": "code",
      "metadata": {
        "colab": {
          "base_uri": "https://localhost:8080/"
        },
        "id": "BuPne6dee8c0",
        "outputId": "ec020ae8-36e2-437f-dec5-3c49b20eb515"
      },
      "source": [
        "arr = [1,2,3,4,5,6,7]\n",
        "print(findPairs(arr,11))"
      ],
      "execution_count": 15,
      "outputs": [
        {
          "output_type": "stream",
          "text": [
            "[(4, 7), (5, 6)]\n"
          ],
          "name": "stdout"
        }
      ]
    },
    {
      "cell_type": "code",
      "metadata": {
        "id": "4126WzmMfzxc"
      },
      "source": [
        ""
      ],
      "execution_count": null,
      "outputs": []
    }
  ]
}