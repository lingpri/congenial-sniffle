{
  "nbformat": 4,
  "nbformat_minor": 0,
  "metadata": {
    "colab": {
      "name": "Find the domain and range of the following functions.ipynb",
      "provenance": [],
      "authorship_tag": "ABX9TyMF/FG/L7EGjQFeIMvZjdFQ",
      "include_colab_link": true
    },
    "kernelspec": {
      "name": "python3",
      "display_name": "Python 3"
    }
  },
  "cells": [
    {
      "cell_type": "markdown",
      "metadata": {
        "id": "view-in-github",
        "colab_type": "text"
      },
      "source": [
        "<a href=\"https://colab.research.google.com/github/lingpri/congenial-sniffle/blob/main/Find_the_domain_and_range_of_the_following_functions.ipynb\" target=\"_parent\"><img src=\"https://colab.research.google.com/assets/colab-badge.svg\" alt=\"Open In Colab\"/></a>"
      ]
    },
    {
      "cell_type": "markdown",
      "metadata": {
        "id": "OyF8MJUJho-Z"
      },
      "source": [
        "**Example 1:**\n",
        "\n",
        "\\begin{equation*}\n",
        "f(x) = 1 + \\sqrt{2x-5}+\\sqrt{9-3x} \n",
        "\\end{equation*}\n",
        "\n",
        "\\begin{equation*}\n",
        "f(x) = |\\sqrt{x} -2 |+ |\\sqrt{x} -2|\n",
        "\\end{equation*} \n",
        "\n",
        "\n"
      ]
    },
    {
      "cell_type": "code",
      "metadata": {
        "id": "xv1In2T1nMxK"
      },
      "source": [
        ""
      ],
      "execution_count": null,
      "outputs": []
    },
    {
      "cell_type": "markdown",
      "metadata": {
        "id": "7BkKky3TjYKG"
      },
      "source": [
        ""
      ]
    }
  ]
}