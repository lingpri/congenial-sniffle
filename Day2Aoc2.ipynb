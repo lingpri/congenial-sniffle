{
  "nbformat": 4,
  "nbformat_minor": 0,
  "metadata": {
    "colab": {
      "name": "Day2Aoc2.ipynb",
      "provenance": [],
      "collapsed_sections": [],
      "authorship_tag": "ABX9TyOMWOy79Fa336BKVyt19Eb7",
      "include_colab_link": true
    },
    "kernelspec": {
      "name": "python3",
      "display_name": "Python 3"
    }
  },
  "cells": [
    {
      "cell_type": "markdown",
      "metadata": {
        "id": "view-in-github",
        "colab_type": "text"
      },
      "source": [
        "<a href=\"https://colab.research.google.com/github/lingpri/congenial-sniffle/blob/main/Day2Aoc2.ipynb\" target=\"_parent\"><img src=\"https://colab.research.google.com/assets/colab-badge.svg\" alt=\"Open In Colab\"/></a>"
      ]
    },
    {
      "cell_type": "code",
      "metadata": {
        "id": "-w9BAwxHSZz6"
      },
      "source": [
        ""
      ],
      "execution_count": null,
      "outputs": []
    },
    {
      "cell_type": "markdown",
      "metadata": {
        "id": "8wUDfgVnbtRP"
      },
      "source": [
        "There are 3 splits , is there a way to split by multiple seperators ?"
      ]
    },
    {
      "cell_type": "code",
      "metadata": {
        "id": "Q9Tbd0XqvrTs"
      },
      "source": [
        "data = [str(line) for line in open('../content/sample_data/day2')]\n",
        "     \n"
      ],
      "execution_count": 4,
      "outputs": []
    },
    {
      "cell_type": "code",
      "metadata": {
        "id": "BHBuk4GucqY-"
      },
      "source": [
        "from collections import Counter, defaultdict, namedtuple, deque\n",
        "from itertools   import permutations, combinations, cycle, product, islice, chain\n",
        "from functools   import lru_cache\n",
        "from typing      import Dict, Tuple, Set, List, Iterator, Optional\n",
        "from sys         import maxsize\n",
        "\n",
        "import re\n",
        "import ast\n",
        "import operator\n",
        "Char = str # Type used to indicate a single character\n",
        "\n",
        "\n",
        "Policy = Tuple[int, int, Char, str]\n",
        "\n",
        "def parse_password_policy(line: str) -> Policy:\n",
        "    \"Given '1-3 b: cdefg', return (1, 3, 'b', 'cdefg').\"\n",
        "    a, b, L, pw = re.findall(r'[^-:\\s]+', line)\n",
        "    return (int(a), int(b), L, pw)\n",
        "\n",
        "def data(day: int, parser=str, sep='\\n') -> list:\n",
        "    \"Split the day's input file into sections separated by `sep`, and apply `parser` to each.\"\n",
        "    sections = open('../content/sample_data/day{day}').read().rstrip().split(sep)\n",
        "    return [parser(section) for section in sections]"
      ],
      "execution_count": 101,
      "outputs": []
    },
    {
      "cell_type": "code",
      "metadata": {
        "id": "1gX4oxGQmZtw"
      },
      "source": [
        "in2: List[tuple] = data(2, parse_password_policy)"
      ],
      "execution_count": 104,
      "outputs": []
    },
    {
      "cell_type": "code",
      "metadata": {
        "id": "1vwoprKcofqN"
      },
      "source": [
        "def valid_password(policy) -> bool: \n",
        "    \"Does policy's pw have between a and b instances of letter L?\"\n",
        "    a, b, L, pw = policy\n",
        "    return a <= pw.count(L) <= b\n",
        "\n",
        "def day2_1(policies): return quantify(policies, valid_password)\n"
      ],
      "execution_count": 106,
      "outputs": []
    },
    {
      "cell_type": "code",
      "metadata": {
        "id": "bdxv-dXxqEhr"
      },
      "source": [
        "def quantify(iterable, pred=bool) -> int:\n",
        "    \"Count the number of items in iterable for which pred is true.\"\n",
        "    return sum(1 for item in iterable if pred(item))"
      ],
      "execution_count": 107,
      "outputs": []
    },
    {
      "cell_type": "code",
      "metadata": {
        "colab": {
          "base_uri": "https://localhost:8080/"
        },
        "id": "AkrEyJMQqWJK",
        "outputId": "3b7c87b3-7bdc-4851-e812-fc88a053ffb0"
      },
      "source": [
        "day2_1(in2)"
      ],
      "execution_count": 108,
      "outputs": [
        {
          "output_type": "execute_result",
          "data": {
            "text/plain": [
              "517"
            ]
          },
          "metadata": {
            "tags": []
          },
          "execution_count": 108
        }
      ]
    },
    {
      "cell_type": "code",
      "metadata": {
        "id": "aYxfnORWqbM5"
      },
      "source": [
        "def valid_password_2(policy) -> bool: \n",
        "    \"Does line's pw have letter L at position a or b (1-based), but not both?\"\n",
        "    a, b, L, pw = policy\n",
        "    return (L == pw[a - 1]) ^ (L == pw[b - 1])"
      ],
      "execution_count": 109,
      "outputs": []
    },
    {
      "cell_type": "code",
      "metadata": {
        "id": "SnKJQ3DM3IYH"
      },
      "source": [
        "def day2_2(policies): return quantify(policies,valid_password_2)"
      ],
      "execution_count": 110,
      "outputs": []
    },
    {
      "cell_type": "code",
      "metadata": {
        "colab": {
          "base_uri": "https://localhost:8080/"
        },
        "id": "QXNjB1Tr3VvG",
        "outputId": "b822bbb1-8e7a-47ca-c4d7-937654e48969"
      },
      "source": [
        "day2_2(in2)"
      ],
      "execution_count": 111,
      "outputs": [
        {
          "output_type": "execute_result",
          "data": {
            "text/plain": [
              "284"
            ]
          },
          "metadata": {
            "tags": []
          },
          "execution_count": 111
        }
      ]
    },
    {
      "cell_type": "code",
      "metadata": {
        "id": "-mveD6gr3Z0k"
      },
      "source": [
        ""
      ],
      "execution_count": null,
      "outputs": []
    }
  ]
}